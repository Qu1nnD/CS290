{
  "nbformat": 4,
  "nbformat_minor": 0,
  "metadata": {
    "colab": {
      "provenance": [],
      "toc_visible": true,
      "include_colab_link": true
    },
    "kernelspec": {
      "name": "python3",
      "display_name": "Python 3"
    },
    "language_info": {
      "name": "python"
    }
  },
  "cells": [
    {
      "cell_type": "markdown",
      "metadata": {
        "id": "view-in-github",
        "colab_type": "text"
      },
      "source": [
        "<a href=\"https://colab.research.google.com/github/Qu1nnD/CS290/blob/main/notebooks/Neighbors%20Classifier_penguins.ipynb\" target=\"_parent\"><img src=\"https://colab.research.google.com/assets/colab-badge.svg\" alt=\"Open In Colab\"/></a>"
      ]
    },
    {
      "cell_type": "code",
      "execution_count": 1,
      "metadata": {
        "id": "zCEnKufpVfS9"
      },
      "outputs": [],
      "source": [
        "import pandas as pd\n",
        "import seaborn as sns\n",
        "import numpy as np\n",
        "from collections import Counter\n",
        "from sklearn.model_selection import train_test_split\n",
        "from sklearn.preprocessing import StandardScaler, LabelEncoder\n",
        "from sklearn.linear_model import LogisticRegression\n",
        "from sklearn.svm import SVC\n",
        "from sklearn.linear_model import SGDClassifier\n",
        "from sklearn.metrics import accuracy_score, classification_report"
      ]
    },
    {
      "cell_type": "code",
      "source": [
        "penguins = pd.read_csv(\"https://github.com/mbrudd/csci290/raw/refs/heads/main/data/penguins.csv\")"
      ],
      "metadata": {
        "id": "KIFo7w-aVheY"
      },
      "execution_count": 2,
      "outputs": []
    },
    {
      "cell_type": "code",
      "source": [
        "penguins.info()"
      ],
      "metadata": {
        "colab": {
          "base_uri": "https://localhost:8080/"
        },
        "id": "UKWeBXRjXjWn",
        "outputId": "6afb2cea-c3e4-40e0-9b39-44c428c626f4"
      },
      "execution_count": 3,
      "outputs": [
        {
          "output_type": "stream",
          "name": "stdout",
          "text": [
            "<class 'pandas.core.frame.DataFrame'>\n",
            "RangeIndex: 344 entries, 0 to 343\n",
            "Data columns (total 8 columns):\n",
            " #   Column             Non-Null Count  Dtype  \n",
            "---  ------             --------------  -----  \n",
            " 0   species            344 non-null    object \n",
            " 1   island             344 non-null    object \n",
            " 2   bill_length_mm     342 non-null    float64\n",
            " 3   bill_depth_mm      342 non-null    float64\n",
            " 4   flipper_length_mm  342 non-null    float64\n",
            " 5   body_mass_g        342 non-null    float64\n",
            " 6   sex                333 non-null    object \n",
            " 7   year               344 non-null    int64  \n",
            "dtypes: float64(4), int64(1), object(3)\n",
            "memory usage: 21.6+ KB\n"
          ]
        }
      ]
    },
    {
      "cell_type": "code",
      "source": [
        "penguins.dropna(inplace=True)\n",
        "penguins['species'] = penguins['species']\n",
        "X = penguins[['year', 'bill_length_mm', 'bill_depth_mm', 'flipper_length_mm', 'body_mass_g']]\n",
        "y = penguins['species']"
      ],
      "metadata": {
        "id": "k-bdHdKIyVvU"
      },
      "execution_count": 4,
      "outputs": []
    },
    {
      "cell_type": "code",
      "source": [
        "X_train, X_test, y_train, y_test = train_test_split(X, y, test_size=0.2, random_state=42)\n",
        "scaler = StandardScaler()\n",
        "X_train = scaler.fit_transform(X_train)\n",
        "X_test = scaler.transform(X_test)"
      ],
      "metadata": {
        "id": "NRtq36PEznKD"
      },
      "execution_count": 5,
      "outputs": []
    },
    {
      "cell_type": "code",
      "source": [
        "def KNN(X_train, y_train, X_test, k=3):\n",
        "  predictions = []\n",
        "  for x in X_test:\n",
        "    distances = np.linalg.norm(X_train - x, axis=1)\n",
        "    k_indices = np.argsort(distances)[:k]\n",
        "    k_nearest_labels = y_train[k_indices]\n",
        "    most_common = Counter(k_nearest_labels).most_common(1)\n",
        "    predictions.append(most_common[0][0])\n",
        "  return np.array(predictions)"
      ],
      "metadata": {
        "id": "-6OWK67ZznHl"
      },
      "execution_count": 6,
      "outputs": []
    },
    {
      "cell_type": "code",
      "source": [
        "y_train = y_train.to_numpy()\n",
        "k = 3\n",
        "knn_predictions = KNN(X_train, y_train, X_test, k)\n",
        "print(\"KNN Classifier Performance:\")\n",
        "print(classification_report(y_test, knn_predictions))"
      ],
      "metadata": {
        "id": "rvTrtLWzznD0",
        "outputId": "01a496fe-5918-4b0a-d5ee-a66228124e90",
        "colab": {
          "base_uri": "https://localhost:8080/"
        }
      },
      "execution_count": 7,
      "outputs": [
        {
          "output_type": "stream",
          "name": "stdout",
          "text": [
            "KNN Classifier Performance:\n",
            "              precision    recall  f1-score   support\n",
            "\n",
            "      Adelie       0.94      1.00      0.97        31\n",
            "   Chinstrap       1.00      0.89      0.94        18\n",
            "      Gentoo       1.00      1.00      1.00        18\n",
            "\n",
            "    accuracy                           0.97        67\n",
            "   macro avg       0.98      0.96      0.97        67\n",
            "weighted avg       0.97      0.97      0.97        67\n",
            "\n"
          ]
        }
      ]
    },
    {
      "cell_type": "code",
      "source": [
        "log_reg = LogisticRegression()\n",
        "log_reg.fit(X_train, y_train)\n",
        "log_reg_predictions = log_reg.predict(X_test)\n",
        "print(\"Logistic Regression Performance:\")\n",
        "print(classification_report(y_test, log_reg_predictions))"
      ],
      "metadata": {
        "id": "iDzOg2ybzm7I",
        "outputId": "48338d88-6d6f-4599-e6c3-4bf498e0997f",
        "colab": {
          "base_uri": "https://localhost:8080/"
        }
      },
      "execution_count": 8,
      "outputs": [
        {
          "output_type": "stream",
          "name": "stdout",
          "text": [
            "Logistic Regression Performance:\n",
            "              precision    recall  f1-score   support\n",
            "\n",
            "      Adelie       0.97      1.00      0.98        31\n",
            "   Chinstrap       1.00      0.94      0.97        18\n",
            "      Gentoo       1.00      1.00      1.00        18\n",
            "\n",
            "    accuracy                           0.99        67\n",
            "   macro avg       0.99      0.98      0.99        67\n",
            "weighted avg       0.99      0.99      0.98        67\n",
            "\n"
          ]
        }
      ]
    },
    {
      "cell_type": "code",
      "source": [
        "svm = SVC()\n",
        "svm.fit(X_train, y_train)\n",
        "svm_predictions = svm.predict(X_test)\n",
        "print(\"SVM Performance:\")\n",
        "print(classification_report(y_test, svm_predictions))"
      ],
      "metadata": {
        "id": "wxE5MW4I0elk",
        "outputId": "12429d3f-5db8-4b0f-fee5-6670a1232606",
        "colab": {
          "base_uri": "https://localhost:8080/"
        }
      },
      "execution_count": 9,
      "outputs": [
        {
          "output_type": "stream",
          "name": "stdout",
          "text": [
            "SVM Performance:\n",
            "              precision    recall  f1-score   support\n",
            "\n",
            "      Adelie       0.97      1.00      0.98        31\n",
            "   Chinstrap       1.00      0.94      0.97        18\n",
            "      Gentoo       1.00      1.00      1.00        18\n",
            "\n",
            "    accuracy                           0.99        67\n",
            "   macro avg       0.99      0.98      0.99        67\n",
            "weighted avg       0.99      0.99      0.98        67\n",
            "\n"
          ]
        }
      ]
    },
    {
      "cell_type": "code",
      "source": [
        "softmax_reg = LogisticRegression(multi_class='multinomial', solver='lbfgs')\n",
        "softmax_reg.fit(X_train, y_train)\n",
        "softmax_predictions = softmax_reg.predict(X_test)\n",
        "print(\"Softmax Regression Performance:\")\n",
        "print(classification_report(y_test, softmax_predictions))"
      ],
      "metadata": {
        "id": "gJh1uYNx0he_",
        "outputId": "b5aa2c13-6140-4185-97b2-fcf82a65718d",
        "colab": {
          "base_uri": "https://localhost:8080/"
        }
      },
      "execution_count": 10,
      "outputs": [
        {
          "output_type": "stream",
          "name": "stdout",
          "text": [
            "Softmax Regression Performance:\n",
            "              precision    recall  f1-score   support\n",
            "\n",
            "      Adelie       0.97      1.00      0.98        31\n",
            "   Chinstrap       1.00      0.94      0.97        18\n",
            "      Gentoo       1.00      1.00      1.00        18\n",
            "\n",
            "    accuracy                           0.99        67\n",
            "   macro avg       0.99      0.98      0.99        67\n",
            "weighted avg       0.99      0.99      0.98        67\n",
            "\n"
          ]
        },
        {
          "output_type": "stream",
          "name": "stderr",
          "text": [
            "/usr/local/lib/python3.10/dist-packages/sklearn/linear_model/_logistic.py:1247: FutureWarning: 'multi_class' was deprecated in version 1.5 and will be removed in 1.7. From then on, it will always use 'multinomial'. Leave it to its default value to avoid this warning.\n",
            "  warnings.warn(\n"
          ]
        }
      ]
    },
    {
      "cell_type": "code",
      "source": [
        "label_encoder = LabelEncoder()\n",
        "y_train_encoded = label_encoder.fit_transform(y_train)\n",
        "y_test_encoded = label_encoder.transform(y_test)\n",
        "print(\"Unique classes in y_train_encoded:\", np.unique(y_train_encoded))\n",
        "sgd_classifier = SGDClassifier(loss='hinge', max_iter=1000, tol=1e-3)\n",
        "sgd_classifier.fit(X_train, y_train_encoded)\n",
        "sgd_predictions = sgd_classifier.predict(X_test)\n",
        "print(\"SGD Classifier Performance:\")\n",
        "print(\"Accuracy score:\" , accuracy_score( y_test_encoded, sgd_predictions))"
      ],
      "metadata": {
        "id": "HVzl41Vg2rR6",
        "outputId": "d529726c-68a4-4795-a953-9ee22723581b",
        "colab": {
          "base_uri": "https://localhost:8080/"
        }
      },
      "execution_count": 11,
      "outputs": [
        {
          "output_type": "stream",
          "name": "stdout",
          "text": [
            "Unique classes in y_train_encoded: [0 1 2]\n",
            "SGD Classifier Performance:\n",
            "Accuracy score: 0.9850746268656716\n"
          ]
        }
      ]
    }
  ]
}