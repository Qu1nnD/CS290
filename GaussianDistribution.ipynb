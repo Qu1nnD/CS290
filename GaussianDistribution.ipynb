{
  "nbformat": 4,
  "nbformat_minor": 0,
  "metadata": {
    "colab": {
      "provenance": [],
      "authorship_tag": "ABX9TyNEd740fL2sSbDIo46DgYV9",
      "include_colab_link": true
    },
    "kernelspec": {
      "name": "python3",
      "display_name": "Python 3"
    },
    "language_info": {
      "name": "python"
    }
  },
  "cells": [
    {
      "cell_type": "markdown",
      "metadata": {
        "id": "view-in-github",
        "colab_type": "text"
      },
      "source": [
        "<a href=\"https://colab.research.google.com/github/Qu1nnD/CS290/blob/main/GaussianDistribution.ipynb\" target=\"_parent\"><img src=\"https://colab.research.google.com/assets/colab-badge.svg\" alt=\"Open In Colab\"/></a>"
      ]
    },
    {
      "cell_type": "markdown",
      "source": [
        "Follow the examples in Chapter 9 of Hands-on Machine Learning to fit Gaussian Mixture Models to both the iris and penguins datasets. After fitting GMMs to these datasets,\n",
        "Plot the centers of the Gaussian distributions in your GMM along with the centroids from your 𝑘-means modeling results. How different are they?\n",
        "Calculate the overall accuracy of each GMM, and compare with the overall accuracy of your 𝑘-means models."
      ],
      "metadata": {
        "id": "5gbn0G-yN4vD"
      }
    },
    {
      "cell_type": "code",
      "execution_count": 5,
      "metadata": {
        "id": "ZEQ19coxN1Yh"
      },
      "outputs": [],
      "source": [
        "import pandas as pd\n",
        "import numpy as np\n",
        "import matplotlib.pyplot as plt\n",
        "from sklearn.mixture import GaussianMixture\n",
        "from sklearn.datasets import load_iris"
      ]
    },
    {
      "cell_type": "code",
      "source": [
        "penguins = pd.read_csv(\"https://github.com/mbrudd/csci290/raw/refs/heads/main/data/penguins.csv\")\n",
        "iris = load_iris()\n",
        "iris_data = pd.DataFrame( iris.data, columns = iris.feature_names)"
      ],
      "metadata": {
        "id": "vuEb4NNHWogP"
      },
      "execution_count": 6,
      "outputs": []
    },
    {
      "cell_type": "code",
      "source": [
        "def ini_Centroids(k, dataset, centroid_type, features):\n",
        "  if(centroid_type == \"random\"): # Makes the centroid random\n",
        "    indices = np.random.choice(len(features), size=k, replace=False)\n",
        "    return features.to_numpy()[indices]\n",
        "  elif(centroid_type == 'arthur'): #arthur vestile method\n",
        "    centroids = []\n",
        "    first_centroid = features.sample(n=1)\n",
        "    centroids.append(first_centroid.values[0])\n",
        "    for x in range(1, k):\n",
        "      distances = np.array([min(np.linalg.norm(x - np.array(centroid), axis=0) ** 2 for centroid in centroids) for x in features.to_numpy()])\n",
        "      total_distance = distances.sum()\n",
        "      probabilities = distances / total_distance  # Probability: D(x_i)^2 / sum(D(x_j)^2)\n",
        "      chosen_idx = np.random.choice(len(features), p=probabilities)\n",
        "      centroids.append(features.iloc[chosen_idx].values)\n",
        "    return np.array(centroids)\n",
        "  else: # Makes the centroid farthest away from everything\n",
        "    centroids = [features.sample(n=1).values[0]]  # Choose the first centroid randomly\n",
        "    for x in range(1, k):\n",
        "        distances = np.array([min(np.linalg.norm(point - np.array(c)) for c in centroids)for point in features.to_numpy()])\n",
        "        farthest_idx = np.argmax(distances)\n",
        "        centroids.append(features.iloc[farthest_idx].values)\n",
        "    return np.array(centroids)"
      ],
      "metadata": {
        "id": "x4LI41gsWodW"
      },
      "execution_count": null,
      "outputs": []
    },
    {
      "cell_type": "code",
      "source": [
        "def accuracy(true_labels, predicted_labels):\n",
        "    correct_predictions = np.sum(true_labels == predicted_labels)\n",
        "    return correct_predictions / len(true_labels)"
      ],
      "metadata": {
        "id": "EEYzemPTWoX6"
      },
      "execution_count": null,
      "outputs": []
    },
    {
      "cell_type": "code",
      "source": [
        "def K_Means(k, dataset, centroid_type, feature_x, feature_y, target):\n",
        "    converged = False\n",
        "    features = dataset[[feature_x, feature_y]].dropna()\n",
        "    centroids=ini_Centroids(k, dataset, centroid_type, features) # initializes the first centroids\n",
        "    while not converged: # Loops until there isn't massive changes between centroids and new_centroids\n",
        "        #Calculations\n",
        "        distances = np.linalg.norm(features.to_numpy()[:, np.newaxis] - centroids, axis=2) # calcuates the eudclidean distance between data points and centroids\n",
        "        labels = np.argmin(distances, axis=1) # assigns data points to the closest centroid\n",
        "        new_centroids = np.array([features[labels == i].mean(axis=0) if np.any(labels == i) else centroids[i] for i in range(k)]) # calculates updated centroids given the mean of all data points from each cluster\n",
        "        #Convergence test and updating centroids\n",
        "        converged = np.all(np.abs(centroids - new_centroids) <= 0.001) # Tests to see if there is major differences between the current and new centroids to see if it needs to continue the loop again\n",
        "        centroids = new_centroids\n",
        "    label_mapping = {}\n",
        "    for i in range(k):\n",
        "        cluster_indices = np.where(labels == i)[0]\n",
        "        if len(cluster_indices) > 0:\n",
        "            majority_label = dataset.iloc[cluster_indices][target].mode().iloc[0]\n",
        "            label_mapping[i] = majority_label\n",
        "    # Replace numerical labels with string labels\n",
        "    string_labels = [label_mapping[label] for label in labels]\n",
        "    #Add making the predicted labels have a string value\n",
        "    return string_labels, labels, centroids"
      ],
      "metadata": {
        "id": "bO11T8YmWoSL"
      },
      "execution_count": null,
      "outputs": []
    },
    {
      "cell_type": "code",
      "source": [
        "def plot_GMM(k, dataset, features, target):\n",
        "    features_data = dataset[features].dropna()\n",
        "    target_data = dataset[target].iloc[features_data.index]\n",
        "\n",
        "    # Fit GMM\n",
        "    gmm = GaussianMixture(n_components=k, covariance_type='full', random_state=42)\n",
        "    gmm.fit(features_data)\n",
        "    labels = gmm.predict(features_data)\n",
        "\n",
        "    # Generate grid for contour plot\n",
        "    x_min, x_max = features_data[features[0]].min() - 1, features_data[features[0]].max() + 1\n",
        "    y_min, y_max = features_data[features[1]].min() - 1, features_data[features[1]].max() + 1\n",
        "    xx, yy = np.meshgrid(np.linspace(x_min, x_max, 100), np.linspace(y_min, y_max, 100))\n",
        "    grid = np.c_[xx.ravel(), yy.ravel()]\n",
        "\n",
        "    # Evaluate GMM probabilities on the grid\n",
        "    probs = -gmm.score_samples(grid).reshape(xx.shape)  # Negative log-probabilities\n",
        "\n",
        "    # Plot scatter and contour\n",
        "    plt.figure(figsize=(8, 6))\n",
        "    plt.scatter(features_data[features[0]], features_data[features[1]], c=labels, cmap='viridis', alpha=0.6, s=50)\n",
        "    plt.contour(xx, yy, probs, levels=15, cmap='coolwarm', alpha=0.7)\n",
        "    plt.title(\"Gaussian Mixture Model with Contour\")\n",
        "    plt.xlabel(features[0])\n",
        "    plt.ylabel(features[1])\n",
        "    plt.colorbar(label=\"Negative Log-Likelihood\")\n",
        "    plt.show()\n",
        "\n",
        "    # Adjusted Rand Index (ARI) for evaluation\n",
        "    ari = adjusted_rand_score(target_data, labels)\n",
        "\n",
        "    return {\n",
        "        \"model\": gmm,\n",
        "        \"labels\": labels,\n",
        "        \"ari\": ari\n",
        "    }"
      ],
      "metadata": {
        "id": "Rs5YdmHaOBXo"
      },
      "execution_count": 56,
      "outputs": []
    },
    {
      "cell_type": "markdown",
      "source": [
        "Iris Dataset"
      ],
      "metadata": {
        "id": "ZtzEweaUJI83"
      }
    },
    {
      "cell_type": "code",
      "source": [
        "gm1 = GaussianMixture(n_components=3, n_init=10)\n",
        "gm1.fit(iris_data)"
      ],
      "metadata": {
        "id": "E2VJRUuOWoPD"
      },
      "execution_count": 8,
      "outputs": []
    },
    {
      "cell_type": "code",
      "source": [
        "gm1.weights_"
      ],
      "metadata": {
        "id": "I-Ir46StWoMO",
        "outputId": "be5469d1-47c4-4c70-e3c9-ffbe78b75817",
        "colab": {
          "base_uri": "https://localhost:8080/"
        }
      },
      "execution_count": 12,
      "outputs": [
        {
          "output_type": "execute_result",
          "data": {
            "text/plain": [
              "array([0.33333333, 0.30118609, 0.36548058])"
            ]
          },
          "metadata": {},
          "execution_count": 12
        }
      ]
    },
    {
      "cell_type": "code",
      "source": [
        "gm1.means_"
      ],
      "metadata": {
        "id": "CM7ay6t-WoHx",
        "outputId": "ef2675c3-0e0c-48da-a972-d3696f590709",
        "colab": {
          "base_uri": "https://localhost:8080/"
        }
      },
      "execution_count": 13,
      "outputs": [
        {
          "output_type": "execute_result",
          "data": {
            "text/plain": [
              "array([[5.006     , 3.428     , 1.462     , 0.246     ],\n",
              "       [5.91697517, 2.77803998, 4.20523542, 1.29841561],\n",
              "       [6.54632887, 2.94943079, 5.4834877 , 1.98716063]])"
            ]
          },
          "metadata": {},
          "execution_count": 13
        }
      ]
    },
    {
      "cell_type": "code",
      "source": [
        "gm1.covariances_"
      ],
      "metadata": {
        "id": "vvySQvuWA62f",
        "outputId": "32ebfe60-c0a1-4d71-d409-76c2e07f455b",
        "colab": {
          "base_uri": "https://localhost:8080/"
        }
      },
      "execution_count": 14,
      "outputs": [
        {
          "output_type": "execute_result",
          "data": {
            "text/plain": [
              "array([[[0.121765  , 0.097232  , 0.016028  , 0.010124  ],\n",
              "        [0.097232  , 0.140817  , 0.011464  , 0.009112  ],\n",
              "        [0.016028  , 0.011464  , 0.029557  , 0.005948  ],\n",
              "        [0.010124  , 0.009112  , 0.005948  , 0.010885  ]],\n",
              "\n",
              "       [[0.27550587, 0.09663458, 0.18542939, 0.05476915],\n",
              "        [0.09663458, 0.09255531, 0.09103836, 0.04299877],\n",
              "        [0.18542939, 0.09103836, 0.20227635, 0.0616792 ],\n",
              "        [0.05476915, 0.04299877, 0.0616792 , 0.03232217]],\n",
              "\n",
              "       [[0.38741443, 0.09223101, 0.30244612, 0.06089936],\n",
              "        [0.09223101, 0.11040631, 0.08386768, 0.0557538 ],\n",
              "        [0.30244612, 0.08386768, 0.32595958, 0.07283247],\n",
              "        [0.06089936, 0.0557538 , 0.07283247, 0.08488025]]])"
            ]
          },
          "metadata": {},
          "execution_count": 14
        }
      ]
    },
    {
      "cell_type": "code",
      "source": [
        "gm1.converged_"
      ],
      "metadata": {
        "id": "ga4oZHCMA60Y",
        "outputId": "60bb5ea1-b428-4d17-be6d-882a0b9ecae4",
        "colab": {
          "base_uri": "https://localhost:8080/"
        }
      },
      "execution_count": 15,
      "outputs": [
        {
          "output_type": "execute_result",
          "data": {
            "text/plain": [
              "True"
            ]
          },
          "metadata": {},
          "execution_count": 15
        }
      ]
    },
    {
      "cell_type": "code",
      "source": [
        "gm1.n_iter_"
      ],
      "metadata": {
        "id": "dZiUYeTwWoFZ",
        "outputId": "0c15f2ec-0cb2-478a-bedb-ecd7a2ea32d7",
        "colab": {
          "base_uri": "https://localhost:8080/"
        }
      },
      "execution_count": 16,
      "outputs": [
        {
          "output_type": "execute_result",
          "data": {
            "text/plain": [
              "17"
            ]
          },
          "metadata": {},
          "execution_count": 16
        }
      ]
    },
    {
      "cell_type": "code",
      "source": [
        "gm1.predict(iris_data)"
      ],
      "metadata": {
        "id": "zr6wW0JnWn9F",
        "outputId": "8f3c1e02-9cea-4aa8-c9ef-c36116f50c2d",
        "colab": {
          "base_uri": "https://localhost:8080/"
        }
      },
      "execution_count": 18,
      "outputs": [
        {
          "output_type": "execute_result",
          "data": {
            "text/plain": [
              "array([0, 0, 0, 0, 0, 0, 0, 0, 0, 0, 0, 0, 0, 0, 0, 0, 0, 0, 0, 0, 0, 0,\n",
              "       0, 0, 0, 0, 0, 0, 0, 0, 0, 0, 0, 0, 0, 0, 0, 0, 0, 0, 0, 0, 0, 0,\n",
              "       0, 0, 0, 0, 0, 0, 1, 1, 1, 1, 1, 1, 1, 1, 1, 1, 1, 1, 1, 1, 1, 1,\n",
              "       1, 1, 2, 1, 2, 1, 2, 1, 1, 1, 1, 2, 1, 1, 1, 1, 1, 2, 1, 1, 1, 1,\n",
              "       1, 1, 1, 1, 1, 1, 1, 1, 1, 1, 1, 1, 2, 2, 2, 2, 2, 2, 2, 2, 2, 2,\n",
              "       2, 2, 2, 2, 2, 2, 2, 2, 2, 2, 2, 2, 2, 2, 2, 2, 2, 2, 2, 2, 2, 2,\n",
              "       2, 2, 2, 2, 2, 2, 2, 2, 2, 2, 2, 2, 2, 2, 2, 2, 2, 2])"
            ]
          },
          "metadata": {},
          "execution_count": 18
        }
      ]
    },
    {
      "cell_type": "code",
      "source": [
        "gm1.predict_proba(iris_data).round(3)"
      ],
      "metadata": {
        "id": "kKu5-I_BA6SB",
        "outputId": "802cfb1c-dab9-4389-8dd2-686a328afe5b",
        "colab": {
          "base_uri": "https://localhost:8080/"
        }
      },
      "execution_count": 19,
      "outputs": [
        {
          "output_type": "execute_result",
          "data": {
            "text/plain": [
              "array([[1.   , 0.   , 0.   ],\n",
              "       [1.   , 0.   , 0.   ],\n",
              "       [1.   , 0.   , 0.   ],\n",
              "       [1.   , 0.   , 0.   ],\n",
              "       [1.   , 0.   , 0.   ],\n",
              "       [1.   , 0.   , 0.   ],\n",
              "       [1.   , 0.   , 0.   ],\n",
              "       [1.   , 0.   , 0.   ],\n",
              "       [1.   , 0.   , 0.   ],\n",
              "       [1.   , 0.   , 0.   ],\n",
              "       [1.   , 0.   , 0.   ],\n",
              "       [1.   , 0.   , 0.   ],\n",
              "       [1.   , 0.   , 0.   ],\n",
              "       [1.   , 0.   , 0.   ],\n",
              "       [1.   , 0.   , 0.   ],\n",
              "       [1.   , 0.   , 0.   ],\n",
              "       [1.   , 0.   , 0.   ],\n",
              "       [1.   , 0.   , 0.   ],\n",
              "       [1.   , 0.   , 0.   ],\n",
              "       [1.   , 0.   , 0.   ],\n",
              "       [1.   , 0.   , 0.   ],\n",
              "       [1.   , 0.   , 0.   ],\n",
              "       [1.   , 0.   , 0.   ],\n",
              "       [1.   , 0.   , 0.   ],\n",
              "       [1.   , 0.   , 0.   ],\n",
              "       [1.   , 0.   , 0.   ],\n",
              "       [1.   , 0.   , 0.   ],\n",
              "       [1.   , 0.   , 0.   ],\n",
              "       [1.   , 0.   , 0.   ],\n",
              "       [1.   , 0.   , 0.   ],\n",
              "       [1.   , 0.   , 0.   ],\n",
              "       [1.   , 0.   , 0.   ],\n",
              "       [1.   , 0.   , 0.   ],\n",
              "       [1.   , 0.   , 0.   ],\n",
              "       [1.   , 0.   , 0.   ],\n",
              "       [1.   , 0.   , 0.   ],\n",
              "       [1.   , 0.   , 0.   ],\n",
              "       [1.   , 0.   , 0.   ],\n",
              "       [1.   , 0.   , 0.   ],\n",
              "       [1.   , 0.   , 0.   ],\n",
              "       [1.   , 0.   , 0.   ],\n",
              "       [1.   , 0.   , 0.   ],\n",
              "       [1.   , 0.   , 0.   ],\n",
              "       [1.   , 0.   , 0.   ],\n",
              "       [1.   , 0.   , 0.   ],\n",
              "       [1.   , 0.   , 0.   ],\n",
              "       [1.   , 0.   , 0.   ],\n",
              "       [1.   , 0.   , 0.   ],\n",
              "       [1.   , 0.   , 0.   ],\n",
              "       [1.   , 0.   , 0.   ],\n",
              "       [0.   , 1.   , 0.   ],\n",
              "       [0.   , 0.999, 0.001],\n",
              "       [0.   , 0.995, 0.005],\n",
              "       [0.   , 0.939, 0.061],\n",
              "       [0.   , 0.974, 0.026],\n",
              "       [0.   , 0.971, 0.029],\n",
              "       [0.   , 0.987, 0.013],\n",
              "       [0.   , 1.   , 0.   ],\n",
              "       [0.   , 0.999, 0.001],\n",
              "       [0.   , 0.969, 0.031],\n",
              "       [0.   , 0.998, 0.002],\n",
              "       [0.   , 0.993, 0.007],\n",
              "       [0.   , 0.999, 0.001],\n",
              "       [0.   , 0.969, 0.031],\n",
              "       [0.   , 1.   , 0.   ],\n",
              "       [0.   , 1.   , 0.   ],\n",
              "       [0.   , 0.929, 0.071],\n",
              "       [0.   , 0.997, 0.003],\n",
              "       [0.   , 0.004, 0.996],\n",
              "       [0.   , 1.   , 0.   ],\n",
              "       [0.   , 0.06 , 0.94 ],\n",
              "       [0.   , 1.   , 0.   ],\n",
              "       [0.   , 0.052, 0.948],\n",
              "       [0.   , 0.92 , 0.08 ],\n",
              "       [0.   , 1.   , 0.   ],\n",
              "       [0.   , 1.   , 0.   ],\n",
              "       [0.   , 0.989, 0.011],\n",
              "       [0.   , 0.371, 0.629],\n",
              "       [0.   , 0.968, 0.032],\n",
              "       [0.   , 1.   , 0.   ],\n",
              "       [0.   , 1.   , 0.   ],\n",
              "       [0.   , 1.   , 0.   ],\n",
              "       [0.   , 1.   , 0.   ],\n",
              "       [0.   , 0.008, 0.992],\n",
              "       [0.   , 0.856, 0.144],\n",
              "       [0.   , 0.988, 0.012],\n",
              "       [0.   , 0.998, 0.002],\n",
              "       [0.   , 0.932, 0.068],\n",
              "       [0.   , 0.999, 0.001],\n",
              "       [0.   , 0.991, 0.009],\n",
              "       [0.   , 0.945, 0.055],\n",
              "       [0.   , 0.992, 0.008],\n",
              "       [0.   , 1.   , 0.   ],\n",
              "       [0.   , 1.   , 0.   ],\n",
              "       [0.   , 0.994, 0.006],\n",
              "       [0.   , 0.998, 0.002],\n",
              "       [0.   , 0.998, 0.002],\n",
              "       [0.   , 1.   , 0.   ],\n",
              "       [0.   , 1.   , 0.   ],\n",
              "       [0.   , 0.999, 0.001],\n",
              "       [0.   , 0.   , 1.   ],\n",
              "       [0.   , 0.   , 1.   ],\n",
              "       [0.   , 0.   , 1.   ],\n",
              "       [0.   , 0.   , 1.   ],\n",
              "       [0.   , 0.   , 1.   ],\n",
              "       [0.   , 0.   , 1.   ],\n",
              "       [0.   , 0.   , 1.   ],\n",
              "       [0.   , 0.   , 1.   ],\n",
              "       [0.   , 0.   , 1.   ],\n",
              "       [0.   , 0.   , 1.   ],\n",
              "       [0.   , 0.   , 1.   ],\n",
              "       [0.   , 0.   , 1.   ],\n",
              "       [0.   , 0.   , 1.   ],\n",
              "       [0.   , 0.   , 1.   ],\n",
              "       [0.   , 0.   , 1.   ],\n",
              "       [0.   , 0.   , 1.   ],\n",
              "       [0.   , 0.001, 0.999],\n",
              "       [0.   , 0.   , 1.   ],\n",
              "       [0.   , 0.   , 1.   ],\n",
              "       [0.   , 0.   , 1.   ],\n",
              "       [0.   , 0.   , 1.   ],\n",
              "       [0.   , 0.   , 1.   ],\n",
              "       [0.   , 0.   , 1.   ],\n",
              "       [0.   , 0.   , 1.   ],\n",
              "       [0.   , 0.   , 1.   ],\n",
              "       [0.   , 0.001, 0.999],\n",
              "       [0.   , 0.   , 1.   ],\n",
              "       [0.   , 0.007, 0.993],\n",
              "       [0.   , 0.   , 1.   ],\n",
              "       [0.   , 0.005, 0.995],\n",
              "       [0.   , 0.   , 1.   ],\n",
              "       [0.   , 0.007, 0.993],\n",
              "       [0.   , 0.   , 1.   ],\n",
              "       [0.   , 0.239, 0.761],\n",
              "       [0.   , 0.   , 1.   ],\n",
              "       [0.   , 0.   , 1.   ],\n",
              "       [0.   , 0.   , 1.   ],\n",
              "       [0.   , 0.003, 0.997],\n",
              "       [0.   , 0.007, 0.993],\n",
              "       [0.   , 0.   , 1.   ],\n",
              "       [0.   , 0.   , 1.   ],\n",
              "       [0.   , 0.   , 1.   ],\n",
              "       [0.   , 0.   , 1.   ],\n",
              "       [0.   , 0.   , 1.   ],\n",
              "       [0.   , 0.   , 1.   ],\n",
              "       [0.   , 0.   , 1.   ],\n",
              "       [0.   , 0.   , 1.   ],\n",
              "       [0.   , 0.   , 1.   ],\n",
              "       [0.   , 0.   , 1.   ],\n",
              "       [0.   , 0.002, 0.998]])"
            ]
          },
          "metadata": {},
          "execution_count": 19
        }
      ]
    },
    {
      "cell_type": "code",
      "source": [
        "x_new,y_new=gm1.sample(6)"
      ],
      "metadata": {
        "id": "fwZg-7CfA6PK"
      },
      "execution_count": 20,
      "outputs": []
    },
    {
      "cell_type": "code",
      "source": [
        "x_new"
      ],
      "metadata": {
        "id": "AOQqjhlTA6L_",
        "outputId": "f6d37c85-c850-4416-f774-72e197f34849",
        "colab": {
          "base_uri": "https://localhost:8080/"
        }
      },
      "execution_count": 21,
      "outputs": [
        {
          "output_type": "execute_result",
          "data": {
            "text/plain": [
              "array([[4.58922524, 2.79910243, 1.19345172, 0.17584526],\n",
              "       [5.51135662, 3.51349414, 1.5715402 , 0.32194197],\n",
              "       [5.23104376, 2.95137421, 1.44717972, 0.21389719],\n",
              "       [6.16166881, 2.46266367, 4.53473845, 1.27431668],\n",
              "       [6.28584719, 3.34798244, 4.36050842, 1.37081118],\n",
              "       [6.56318845, 3.21941987, 4.8535455 , 1.39813646]])"
            ]
          },
          "metadata": {},
          "execution_count": 21
        }
      ]
    },
    {
      "cell_type": "code",
      "source": [
        "y_new"
      ],
      "metadata": {
        "id": "zWh9wlBTA53b",
        "outputId": "3572d3fb-1d77-46ab-f061-099b25b6aa60",
        "colab": {
          "base_uri": "https://localhost:8080/"
        }
      },
      "execution_count": 22,
      "outputs": [
        {
          "output_type": "execute_result",
          "data": {
            "text/plain": [
              "array([0, 0, 0, 1, 1, 1])"
            ]
          },
          "metadata": {},
          "execution_count": 22
        }
      ]
    },
    {
      "cell_type": "code",
      "source": [
        "gm1.score_samples(iris_data).round(2)"
      ],
      "metadata": {
        "id": "NEsxxYNuI0bu",
        "outputId": "883174b6-fe26-42a4-9cbc-30860022aa60",
        "colab": {
          "base_uri": "https://localhost:8080/"
        }
      },
      "execution_count": 23,
      "outputs": [
        {
          "output_type": "execute_result",
          "data": {
            "text/plain": [
              "array([ 1.57,  0.74,  1.14,  0.93,  1.41, -0.09,  0.05,  1.62,  0.27,\n",
              "        0.17,  0.83,  0.77,  0.3 , -1.79, -3.42, -2.11, -1.13,  1.48,\n",
              "       -0.85,  0.98, -0.93,  0.41, -3.84, -1.89, -3.17, -0.12,  0.51,\n",
              "        1.38,  1.12,  0.69,  0.78, -0.69, -2.13, -0.88,  1.15,  0.12,\n",
              "       -1.12,  0.23,  0.13,  1.5 ,  0.94, -4.49, -0.34, -4.48, -2.59,\n",
              "        0.68,  0.39,  1.04,  1.16,  1.55, -2.04, -0.27, -0.85, -2.33,\n",
              "       -1.16, -0.79, -0.82, -1.4 , -0.45, -1.64, -2.59, -0.6 , -2.52,\n",
              "       -0.11, -1.93, -1.16, -1.27, -2.94, -5.17,  0.26, -2.49, -0.02,\n",
              "       -2.19, -2.58,  0.09, -0.48, -1.33, -2.27, -0.06, -1.86,  0.13,\n",
              "       -0.49,  0.54, -1.43, -2.52, -2.22, -0.32, -3.75, -0.44, -0.35,\n",
              "       -1.84,  0.24,  0.7 , -1.18,  0.44, -1.74,  0.35,  0.59, -4.2 ,\n",
              "        0.75, -4.19, -1.3 , -0.77, -1.39, -1.12, -2.55, -4.41, -2.35,\n",
              "       -2.07, -2.53, -1.52, -0.62, -0.7 , -2.27, -3.41, -1.35, -0.8 ,\n",
              "       -5.03, -7.06, -2.99, -1.04, -1.69, -3.85, -1.35, -0.95, -1.97,\n",
              "       -1.41, -1.23, -0.92, -2.65, -1.97, -6.03, -1.28, -1.63, -4.86,\n",
              "       -3.5 , -2.42, -1.31, -1.46, -1.37, -1.52, -4.39, -1.3 , -0.99,\n",
              "       -1.96, -2.61, -1.9 , -0.72, -2.22, -1.52])"
            ]
          },
          "metadata": {},
          "execution_count": 23
        }
      ]
    },
    {
      "cell_type": "code",
      "source": [
        "plot_GMM(3, iris_data, [\"petal length (cm)\", \"petal width (cm)\"], \"target\")"
      ],
      "metadata": {
        "id": "vOyUwnCEI8oi"
      },
      "execution_count": null,
      "outputs": []
    },
    {
      "cell_type": "code",
      "source": [],
      "metadata": {
        "id": "joecox-VI8lO"
      },
      "execution_count": null,
      "outputs": []
    },
    {
      "cell_type": "code",
      "source": [],
      "metadata": {
        "id": "fUwDCBMNI8ge"
      },
      "execution_count": null,
      "outputs": []
    },
    {
      "cell_type": "code",
      "source": [],
      "metadata": {
        "id": "rYD7EfsaI8dB"
      },
      "execution_count": null,
      "outputs": []
    },
    {
      "cell_type": "markdown",
      "source": [
        "Penguins dataset"
      ],
      "metadata": {
        "id": "3tQ6NK-2JODR"
      }
    },
    {
      "cell_type": "code",
      "source": [
        "gm2 = GaussianMixture(n_components=3, n_init=10)\n",
        "penguins = penguins[[\"flipper_length_mm\",\"bill_length_mm\"]]\n",
        "penguins = penguins.dropna()\n",
        "gm2.fit(penguins)"
      ],
      "metadata": {
        "id": "9XUI-W0QI8Z3",
        "outputId": "eb55e3e7-22e4-4d7e-edbf-6d3b0c2df00c",
        "colab": {
          "base_uri": "https://localhost:8080/",
          "height": 80
        }
      },
      "execution_count": 26,
      "outputs": [
        {
          "output_type": "execute_result",
          "data": {
            "text/plain": [
              "GaussianMixture(n_components=3, n_init=10)"
            ],
            "text/html": [
              "<style>#sk-container-id-2 {\n",
              "  /* Definition of color scheme common for light and dark mode */\n",
              "  --sklearn-color-text: black;\n",
              "  --sklearn-color-line: gray;\n",
              "  /* Definition of color scheme for unfitted estimators */\n",
              "  --sklearn-color-unfitted-level-0: #fff5e6;\n",
              "  --sklearn-color-unfitted-level-1: #f6e4d2;\n",
              "  --sklearn-color-unfitted-level-2: #ffe0b3;\n",
              "  --sklearn-color-unfitted-level-3: chocolate;\n",
              "  /* Definition of color scheme for fitted estimators */\n",
              "  --sklearn-color-fitted-level-0: #f0f8ff;\n",
              "  --sklearn-color-fitted-level-1: #d4ebff;\n",
              "  --sklearn-color-fitted-level-2: #b3dbfd;\n",
              "  --sklearn-color-fitted-level-3: cornflowerblue;\n",
              "\n",
              "  /* Specific color for light theme */\n",
              "  --sklearn-color-text-on-default-background: var(--sg-text-color, var(--theme-code-foreground, var(--jp-content-font-color1, black)));\n",
              "  --sklearn-color-background: var(--sg-background-color, var(--theme-background, var(--jp-layout-color0, white)));\n",
              "  --sklearn-color-border-box: var(--sg-text-color, var(--theme-code-foreground, var(--jp-content-font-color1, black)));\n",
              "  --sklearn-color-icon: #696969;\n",
              "\n",
              "  @media (prefers-color-scheme: dark) {\n",
              "    /* Redefinition of color scheme for dark theme */\n",
              "    --sklearn-color-text-on-default-background: var(--sg-text-color, var(--theme-code-foreground, var(--jp-content-font-color1, white)));\n",
              "    --sklearn-color-background: var(--sg-background-color, var(--theme-background, var(--jp-layout-color0, #111)));\n",
              "    --sklearn-color-border-box: var(--sg-text-color, var(--theme-code-foreground, var(--jp-content-font-color1, white)));\n",
              "    --sklearn-color-icon: #878787;\n",
              "  }\n",
              "}\n",
              "\n",
              "#sk-container-id-2 {\n",
              "  color: var(--sklearn-color-text);\n",
              "}\n",
              "\n",
              "#sk-container-id-2 pre {\n",
              "  padding: 0;\n",
              "}\n",
              "\n",
              "#sk-container-id-2 input.sk-hidden--visually {\n",
              "  border: 0;\n",
              "  clip: rect(1px 1px 1px 1px);\n",
              "  clip: rect(1px, 1px, 1px, 1px);\n",
              "  height: 1px;\n",
              "  margin: -1px;\n",
              "  overflow: hidden;\n",
              "  padding: 0;\n",
              "  position: absolute;\n",
              "  width: 1px;\n",
              "}\n",
              "\n",
              "#sk-container-id-2 div.sk-dashed-wrapped {\n",
              "  border: 1px dashed var(--sklearn-color-line);\n",
              "  margin: 0 0.4em 0.5em 0.4em;\n",
              "  box-sizing: border-box;\n",
              "  padding-bottom: 0.4em;\n",
              "  background-color: var(--sklearn-color-background);\n",
              "}\n",
              "\n",
              "#sk-container-id-2 div.sk-container {\n",
              "  /* jupyter's `normalize.less` sets `[hidden] { display: none; }`\n",
              "     but bootstrap.min.css set `[hidden] { display: none !important; }`\n",
              "     so we also need the `!important` here to be able to override the\n",
              "     default hidden behavior on the sphinx rendered scikit-learn.org.\n",
              "     See: https://github.com/scikit-learn/scikit-learn/issues/21755 */\n",
              "  display: inline-block !important;\n",
              "  position: relative;\n",
              "}\n",
              "\n",
              "#sk-container-id-2 div.sk-text-repr-fallback {\n",
              "  display: none;\n",
              "}\n",
              "\n",
              "div.sk-parallel-item,\n",
              "div.sk-serial,\n",
              "div.sk-item {\n",
              "  /* draw centered vertical line to link estimators */\n",
              "  background-image: linear-gradient(var(--sklearn-color-text-on-default-background), var(--sklearn-color-text-on-default-background));\n",
              "  background-size: 2px 100%;\n",
              "  background-repeat: no-repeat;\n",
              "  background-position: center center;\n",
              "}\n",
              "\n",
              "/* Parallel-specific style estimator block */\n",
              "\n",
              "#sk-container-id-2 div.sk-parallel-item::after {\n",
              "  content: \"\";\n",
              "  width: 100%;\n",
              "  border-bottom: 2px solid var(--sklearn-color-text-on-default-background);\n",
              "  flex-grow: 1;\n",
              "}\n",
              "\n",
              "#sk-container-id-2 div.sk-parallel {\n",
              "  display: flex;\n",
              "  align-items: stretch;\n",
              "  justify-content: center;\n",
              "  background-color: var(--sklearn-color-background);\n",
              "  position: relative;\n",
              "}\n",
              "\n",
              "#sk-container-id-2 div.sk-parallel-item {\n",
              "  display: flex;\n",
              "  flex-direction: column;\n",
              "}\n",
              "\n",
              "#sk-container-id-2 div.sk-parallel-item:first-child::after {\n",
              "  align-self: flex-end;\n",
              "  width: 50%;\n",
              "}\n",
              "\n",
              "#sk-container-id-2 div.sk-parallel-item:last-child::after {\n",
              "  align-self: flex-start;\n",
              "  width: 50%;\n",
              "}\n",
              "\n",
              "#sk-container-id-2 div.sk-parallel-item:only-child::after {\n",
              "  width: 0;\n",
              "}\n",
              "\n",
              "/* Serial-specific style estimator block */\n",
              "\n",
              "#sk-container-id-2 div.sk-serial {\n",
              "  display: flex;\n",
              "  flex-direction: column;\n",
              "  align-items: center;\n",
              "  background-color: var(--sklearn-color-background);\n",
              "  padding-right: 1em;\n",
              "  padding-left: 1em;\n",
              "}\n",
              "\n",
              "\n",
              "/* Toggleable style: style used for estimator/Pipeline/ColumnTransformer box that is\n",
              "clickable and can be expanded/collapsed.\n",
              "- Pipeline and ColumnTransformer use this feature and define the default style\n",
              "- Estimators will overwrite some part of the style using the `sk-estimator` class\n",
              "*/\n",
              "\n",
              "/* Pipeline and ColumnTransformer style (default) */\n",
              "\n",
              "#sk-container-id-2 div.sk-toggleable {\n",
              "  /* Default theme specific background. It is overwritten whether we have a\n",
              "  specific estimator or a Pipeline/ColumnTransformer */\n",
              "  background-color: var(--sklearn-color-background);\n",
              "}\n",
              "\n",
              "/* Toggleable label */\n",
              "#sk-container-id-2 label.sk-toggleable__label {\n",
              "  cursor: pointer;\n",
              "  display: block;\n",
              "  width: 100%;\n",
              "  margin-bottom: 0;\n",
              "  padding: 0.5em;\n",
              "  box-sizing: border-box;\n",
              "  text-align: center;\n",
              "}\n",
              "\n",
              "#sk-container-id-2 label.sk-toggleable__label-arrow:before {\n",
              "  /* Arrow on the left of the label */\n",
              "  content: \"▸\";\n",
              "  float: left;\n",
              "  margin-right: 0.25em;\n",
              "  color: var(--sklearn-color-icon);\n",
              "}\n",
              "\n",
              "#sk-container-id-2 label.sk-toggleable__label-arrow:hover:before {\n",
              "  color: var(--sklearn-color-text);\n",
              "}\n",
              "\n",
              "/* Toggleable content - dropdown */\n",
              "\n",
              "#sk-container-id-2 div.sk-toggleable__content {\n",
              "  max-height: 0;\n",
              "  max-width: 0;\n",
              "  overflow: hidden;\n",
              "  text-align: left;\n",
              "  /* unfitted */\n",
              "  background-color: var(--sklearn-color-unfitted-level-0);\n",
              "}\n",
              "\n",
              "#sk-container-id-2 div.sk-toggleable__content.fitted {\n",
              "  /* fitted */\n",
              "  background-color: var(--sklearn-color-fitted-level-0);\n",
              "}\n",
              "\n",
              "#sk-container-id-2 div.sk-toggleable__content pre {\n",
              "  margin: 0.2em;\n",
              "  border-radius: 0.25em;\n",
              "  color: var(--sklearn-color-text);\n",
              "  /* unfitted */\n",
              "  background-color: var(--sklearn-color-unfitted-level-0);\n",
              "}\n",
              "\n",
              "#sk-container-id-2 div.sk-toggleable__content.fitted pre {\n",
              "  /* unfitted */\n",
              "  background-color: var(--sklearn-color-fitted-level-0);\n",
              "}\n",
              "\n",
              "#sk-container-id-2 input.sk-toggleable__control:checked~div.sk-toggleable__content {\n",
              "  /* Expand drop-down */\n",
              "  max-height: 200px;\n",
              "  max-width: 100%;\n",
              "  overflow: auto;\n",
              "}\n",
              "\n",
              "#sk-container-id-2 input.sk-toggleable__control:checked~label.sk-toggleable__label-arrow:before {\n",
              "  content: \"▾\";\n",
              "}\n",
              "\n",
              "/* Pipeline/ColumnTransformer-specific style */\n",
              "\n",
              "#sk-container-id-2 div.sk-label input.sk-toggleable__control:checked~label.sk-toggleable__label {\n",
              "  color: var(--sklearn-color-text);\n",
              "  background-color: var(--sklearn-color-unfitted-level-2);\n",
              "}\n",
              "\n",
              "#sk-container-id-2 div.sk-label.fitted input.sk-toggleable__control:checked~label.sk-toggleable__label {\n",
              "  background-color: var(--sklearn-color-fitted-level-2);\n",
              "}\n",
              "\n",
              "/* Estimator-specific style */\n",
              "\n",
              "/* Colorize estimator box */\n",
              "#sk-container-id-2 div.sk-estimator input.sk-toggleable__control:checked~label.sk-toggleable__label {\n",
              "  /* unfitted */\n",
              "  background-color: var(--sklearn-color-unfitted-level-2);\n",
              "}\n",
              "\n",
              "#sk-container-id-2 div.sk-estimator.fitted input.sk-toggleable__control:checked~label.sk-toggleable__label {\n",
              "  /* fitted */\n",
              "  background-color: var(--sklearn-color-fitted-level-2);\n",
              "}\n",
              "\n",
              "#sk-container-id-2 div.sk-label label.sk-toggleable__label,\n",
              "#sk-container-id-2 div.sk-label label {\n",
              "  /* The background is the default theme color */\n",
              "  color: var(--sklearn-color-text-on-default-background);\n",
              "}\n",
              "\n",
              "/* On hover, darken the color of the background */\n",
              "#sk-container-id-2 div.sk-label:hover label.sk-toggleable__label {\n",
              "  color: var(--sklearn-color-text);\n",
              "  background-color: var(--sklearn-color-unfitted-level-2);\n",
              "}\n",
              "\n",
              "/* Label box, darken color on hover, fitted */\n",
              "#sk-container-id-2 div.sk-label.fitted:hover label.sk-toggleable__label.fitted {\n",
              "  color: var(--sklearn-color-text);\n",
              "  background-color: var(--sklearn-color-fitted-level-2);\n",
              "}\n",
              "\n",
              "/* Estimator label */\n",
              "\n",
              "#sk-container-id-2 div.sk-label label {\n",
              "  font-family: monospace;\n",
              "  font-weight: bold;\n",
              "  display: inline-block;\n",
              "  line-height: 1.2em;\n",
              "}\n",
              "\n",
              "#sk-container-id-2 div.sk-label-container {\n",
              "  text-align: center;\n",
              "}\n",
              "\n",
              "/* Estimator-specific */\n",
              "#sk-container-id-2 div.sk-estimator {\n",
              "  font-family: monospace;\n",
              "  border: 1px dotted var(--sklearn-color-border-box);\n",
              "  border-radius: 0.25em;\n",
              "  box-sizing: border-box;\n",
              "  margin-bottom: 0.5em;\n",
              "  /* unfitted */\n",
              "  background-color: var(--sklearn-color-unfitted-level-0);\n",
              "}\n",
              "\n",
              "#sk-container-id-2 div.sk-estimator.fitted {\n",
              "  /* fitted */\n",
              "  background-color: var(--sklearn-color-fitted-level-0);\n",
              "}\n",
              "\n",
              "/* on hover */\n",
              "#sk-container-id-2 div.sk-estimator:hover {\n",
              "  /* unfitted */\n",
              "  background-color: var(--sklearn-color-unfitted-level-2);\n",
              "}\n",
              "\n",
              "#sk-container-id-2 div.sk-estimator.fitted:hover {\n",
              "  /* fitted */\n",
              "  background-color: var(--sklearn-color-fitted-level-2);\n",
              "}\n",
              "\n",
              "/* Specification for estimator info (e.g. \"i\" and \"?\") */\n",
              "\n",
              "/* Common style for \"i\" and \"?\" */\n",
              "\n",
              ".sk-estimator-doc-link,\n",
              "a:link.sk-estimator-doc-link,\n",
              "a:visited.sk-estimator-doc-link {\n",
              "  float: right;\n",
              "  font-size: smaller;\n",
              "  line-height: 1em;\n",
              "  font-family: monospace;\n",
              "  background-color: var(--sklearn-color-background);\n",
              "  border-radius: 1em;\n",
              "  height: 1em;\n",
              "  width: 1em;\n",
              "  text-decoration: none !important;\n",
              "  margin-left: 1ex;\n",
              "  /* unfitted */\n",
              "  border: var(--sklearn-color-unfitted-level-1) 1pt solid;\n",
              "  color: var(--sklearn-color-unfitted-level-1);\n",
              "}\n",
              "\n",
              ".sk-estimator-doc-link.fitted,\n",
              "a:link.sk-estimator-doc-link.fitted,\n",
              "a:visited.sk-estimator-doc-link.fitted {\n",
              "  /* fitted */\n",
              "  border: var(--sklearn-color-fitted-level-1) 1pt solid;\n",
              "  color: var(--sklearn-color-fitted-level-1);\n",
              "}\n",
              "\n",
              "/* On hover */\n",
              "div.sk-estimator:hover .sk-estimator-doc-link:hover,\n",
              ".sk-estimator-doc-link:hover,\n",
              "div.sk-label-container:hover .sk-estimator-doc-link:hover,\n",
              ".sk-estimator-doc-link:hover {\n",
              "  /* unfitted */\n",
              "  background-color: var(--sklearn-color-unfitted-level-3);\n",
              "  color: var(--sklearn-color-background);\n",
              "  text-decoration: none;\n",
              "}\n",
              "\n",
              "div.sk-estimator.fitted:hover .sk-estimator-doc-link.fitted:hover,\n",
              ".sk-estimator-doc-link.fitted:hover,\n",
              "div.sk-label-container:hover .sk-estimator-doc-link.fitted:hover,\n",
              ".sk-estimator-doc-link.fitted:hover {\n",
              "  /* fitted */\n",
              "  background-color: var(--sklearn-color-fitted-level-3);\n",
              "  color: var(--sklearn-color-background);\n",
              "  text-decoration: none;\n",
              "}\n",
              "\n",
              "/* Span, style for the box shown on hovering the info icon */\n",
              ".sk-estimator-doc-link span {\n",
              "  display: none;\n",
              "  z-index: 9999;\n",
              "  position: relative;\n",
              "  font-weight: normal;\n",
              "  right: .2ex;\n",
              "  padding: .5ex;\n",
              "  margin: .5ex;\n",
              "  width: min-content;\n",
              "  min-width: 20ex;\n",
              "  max-width: 50ex;\n",
              "  color: var(--sklearn-color-text);\n",
              "  box-shadow: 2pt 2pt 4pt #999;\n",
              "  /* unfitted */\n",
              "  background: var(--sklearn-color-unfitted-level-0);\n",
              "  border: .5pt solid var(--sklearn-color-unfitted-level-3);\n",
              "}\n",
              "\n",
              ".sk-estimator-doc-link.fitted span {\n",
              "  /* fitted */\n",
              "  background: var(--sklearn-color-fitted-level-0);\n",
              "  border: var(--sklearn-color-fitted-level-3);\n",
              "}\n",
              "\n",
              ".sk-estimator-doc-link:hover span {\n",
              "  display: block;\n",
              "}\n",
              "\n",
              "/* \"?\"-specific style due to the `<a>` HTML tag */\n",
              "\n",
              "#sk-container-id-2 a.estimator_doc_link {\n",
              "  float: right;\n",
              "  font-size: 1rem;\n",
              "  line-height: 1em;\n",
              "  font-family: monospace;\n",
              "  background-color: var(--sklearn-color-background);\n",
              "  border-radius: 1rem;\n",
              "  height: 1rem;\n",
              "  width: 1rem;\n",
              "  text-decoration: none;\n",
              "  /* unfitted */\n",
              "  color: var(--sklearn-color-unfitted-level-1);\n",
              "  border: var(--sklearn-color-unfitted-level-1) 1pt solid;\n",
              "}\n",
              "\n",
              "#sk-container-id-2 a.estimator_doc_link.fitted {\n",
              "  /* fitted */\n",
              "  border: var(--sklearn-color-fitted-level-1) 1pt solid;\n",
              "  color: var(--sklearn-color-fitted-level-1);\n",
              "}\n",
              "\n",
              "/* On hover */\n",
              "#sk-container-id-2 a.estimator_doc_link:hover {\n",
              "  /* unfitted */\n",
              "  background-color: var(--sklearn-color-unfitted-level-3);\n",
              "  color: var(--sklearn-color-background);\n",
              "  text-decoration: none;\n",
              "}\n",
              "\n",
              "#sk-container-id-2 a.estimator_doc_link.fitted:hover {\n",
              "  /* fitted */\n",
              "  background-color: var(--sklearn-color-fitted-level-3);\n",
              "}\n",
              "</style><div id=\"sk-container-id-2\" class=\"sk-top-container\"><div class=\"sk-text-repr-fallback\"><pre>GaussianMixture(n_components=3, n_init=10)</pre><b>In a Jupyter environment, please rerun this cell to show the HTML representation or trust the notebook. <br />On GitHub, the HTML representation is unable to render, please try loading this page with nbviewer.org.</b></div><div class=\"sk-container\" hidden><div class=\"sk-item\"><div class=\"sk-estimator fitted sk-toggleable\"><input class=\"sk-toggleable__control sk-hidden--visually\" id=\"sk-estimator-id-2\" type=\"checkbox\" checked><label for=\"sk-estimator-id-2\" class=\"sk-toggleable__label fitted sk-toggleable__label-arrow fitted\">&nbsp;&nbsp;GaussianMixture<a class=\"sk-estimator-doc-link fitted\" rel=\"noreferrer\" target=\"_blank\" href=\"https://scikit-learn.org/1.5/modules/generated/sklearn.mixture.GaussianMixture.html\">?<span>Documentation for GaussianMixture</span></a><span class=\"sk-estimator-doc-link fitted\">i<span>Fitted</span></span></label><div class=\"sk-toggleable__content fitted\"><pre>GaussianMixture(n_components=3, n_init=10)</pre></div> </div></div></div></div>"
            ]
          },
          "metadata": {},
          "execution_count": 26
        }
      ]
    },
    {
      "cell_type": "code",
      "source": [
        "gm2.weights_"
      ],
      "metadata": {
        "id": "F2636FPXJfdm",
        "outputId": "3d3ab01c-0c71-4c4a-a39e-4da1d7bcae8f",
        "colab": {
          "base_uri": "https://localhost:8080/"
        }
      },
      "execution_count": 27,
      "outputs": [
        {
          "output_type": "execute_result",
          "data": {
            "text/plain": [
              "array([0.20891229, 0.41972089, 0.37136681])"
            ]
          },
          "metadata": {},
          "execution_count": 27
        }
      ]
    },
    {
      "cell_type": "code",
      "source": [
        "gm2.means_"
      ],
      "metadata": {
        "id": "kKXLyl9jJ9b7",
        "outputId": "77fbf11a-d1fb-43f6-911a-5fa38a6b3f0e",
        "colab": {
          "base_uri": "https://localhost:8080/"
        }
      },
      "execution_count": 28,
      "outputs": [
        {
          "output_type": "execute_result",
          "data": {
            "text/plain": [
              "array([[196.50939504,  48.67856476],\n",
              "       [189.08913749,  38.60158257],\n",
              "       [216.7595804 ,  47.25917307]])"
            ]
          },
          "metadata": {},
          "execution_count": 28
        }
      ]
    },
    {
      "cell_type": "code",
      "source": [
        "gm2.covariances_"
      ],
      "metadata": {
        "id": "L4uD6BAyJ1ki",
        "outputId": "392d4912-31c7-4327-d13b-677a70a7be8e",
        "colab": {
          "base_uri": "https://localhost:8080/"
        }
      },
      "execution_count": 29,
      "outputs": [
        {
          "output_type": "execute_result",
          "data": {
            "text/plain": [
              "array([[[43.80771074,  6.84627505],\n",
              "        [ 6.84627505, 11.06620647]],\n",
              "\n",
              "       [[34.99100075,  2.73226839],\n",
              "        [ 2.73226839,  6.38449399]],\n",
              "\n",
              "       [[46.66558079, 16.11513628],\n",
              "        [16.11513628, 10.73042564]]])"
            ]
          },
          "metadata": {},
          "execution_count": 29
        }
      ]
    },
    {
      "cell_type": "code",
      "source": [
        "gm2.converged_"
      ],
      "metadata": {
        "id": "Q3ocLhopJ1ih",
        "outputId": "588c126d-61a8-40ec-cf14-2898db4ecaf5",
        "colab": {
          "base_uri": "https://localhost:8080/"
        }
      },
      "execution_count": 40,
      "outputs": [
        {
          "output_type": "execute_result",
          "data": {
            "text/plain": [
              "True"
            ]
          },
          "metadata": {},
          "execution_count": 40
        }
      ]
    },
    {
      "cell_type": "code",
      "source": [
        "gm2.n_iter_"
      ],
      "metadata": {
        "id": "5AhXU-ApJfbO",
        "outputId": "267e6e38-0265-4c8b-e854-7d65c5f187f6",
        "colab": {
          "base_uri": "https://localhost:8080/"
        }
      },
      "execution_count": 41,
      "outputs": [
        {
          "output_type": "execute_result",
          "data": {
            "text/plain": [
              "11"
            ]
          },
          "metadata": {},
          "execution_count": 41
        }
      ]
    },
    {
      "cell_type": "code",
      "source": [
        "gm2.predict(penguins)"
      ],
      "metadata": {
        "id": "SHZuiajhJfYx",
        "outputId": "de9bc5e3-cbe8-4709-fe40-33daab936d64",
        "colab": {
          "base_uri": "https://localhost:8080/"
        }
      },
      "execution_count": 42,
      "outputs": [
        {
          "output_type": "execute_result",
          "data": {
            "text/plain": [
              "array([1, 1, 1, 1, 1, 1, 1, 1, 1, 1, 1, 1, 1, 1, 1, 1, 1, 1, 0, 1, 1, 1,\n",
              "       1, 1, 1, 1, 1, 1, 1, 1, 1, 1, 1, 1, 1, 1, 1, 1, 1, 1, 1, 1, 0, 1,\n",
              "       1, 1, 1, 1, 1, 1, 1, 1, 1, 1, 1, 1, 1, 1, 1, 1, 1, 1, 1, 1, 1, 1,\n",
              "       1, 1, 1, 1, 1, 1, 0, 1, 1, 1, 1, 1, 1, 1, 1, 1, 1, 1, 1, 1, 1, 1,\n",
              "       1, 1, 2, 1, 1, 1, 2, 1, 1, 1, 1, 1, 2, 1, 1, 1, 1, 1, 1, 1, 1, 1,\n",
              "       0, 1, 1, 1, 1, 1, 1, 1, 1, 1, 1, 1, 2, 1, 1, 1, 1, 1, 2, 1, 1, 1,\n",
              "       1, 1, 1, 1, 1, 1, 1, 1, 1, 1, 1, 1, 1, 1, 1, 1, 1, 1, 1, 2, 2, 2,\n",
              "       2, 2, 2, 2, 2, 2, 2, 2, 2, 2, 2, 2, 2, 2, 2, 2, 2, 2, 2, 2, 2, 2,\n",
              "       2, 2, 2, 2, 2, 2, 2, 2, 2, 2, 2, 2, 2, 2, 0, 2, 2, 2, 2, 2, 2, 2,\n",
              "       2, 2, 2, 2, 2, 2, 2, 2, 2, 2, 2, 2, 2, 2, 2, 2, 2, 2, 2, 2, 2, 2,\n",
              "       2, 2, 2, 2, 2, 2, 2, 2, 2, 2, 2, 2, 2, 2, 2, 2, 2, 2, 2, 2, 2, 2,\n",
              "       2, 2, 2, 2, 2, 2, 2, 0, 2, 2, 2, 2, 2, 2, 2, 2, 2, 2, 2, 2, 2, 2,\n",
              "       2, 2, 2, 2, 2, 2, 2, 2, 2, 2, 0, 0, 0, 0, 0, 0, 0, 0, 0, 0, 0, 0,\n",
              "       0, 0, 0, 0, 0, 0, 0, 0, 1, 0, 1, 0, 0, 0, 0, 0, 0, 0, 1, 0, 1, 0,\n",
              "       0, 0, 0, 0, 0, 0, 2, 0, 0, 0, 0, 0, 0, 2, 0, 0, 0, 0, 0, 0, 1, 0,\n",
              "       0, 0, 0, 0, 0, 0, 0, 0, 2, 0, 0, 0])"
            ]
          },
          "metadata": {},
          "execution_count": 42
        }
      ]
    },
    {
      "cell_type": "code",
      "source": [
        "gm2.predict_proba(penguins).round(3)"
      ],
      "metadata": {
        "id": "aLbNhNslJfWy",
        "outputId": "0243db2f-5d40-4e2f-db91-fe74e025f1c3",
        "colab": {
          "base_uri": "https://localhost:8080/"
        }
      },
      "execution_count": 43,
      "outputs": [
        {
          "output_type": "execute_result",
          "data": {
            "text/plain": [
              "array([[0.005, 0.995, 0.   ],\n",
              "       [0.007, 0.993, 0.   ],\n",
              "       [0.022, 0.968, 0.009],\n",
              "       ...,\n",
              "       [1.   , 0.   , 0.   ],\n",
              "       [0.707, 0.   , 0.293],\n",
              "       [1.   , 0.   , 0.   ]])"
            ]
          },
          "metadata": {},
          "execution_count": 43
        }
      ]
    },
    {
      "cell_type": "code",
      "source": [
        "x_new2,y_new2=gm1.sample(6)"
      ],
      "metadata": {
        "id": "6DC7lozOJfUY"
      },
      "execution_count": 44,
      "outputs": []
    },
    {
      "cell_type": "code",
      "source": [
        "x_new2"
      ],
      "metadata": {
        "id": "T5A7twiEJfPx",
        "outputId": "6c96ad52-6ff1-4acb-ef71-833ddb799c71",
        "colab": {
          "base_uri": "https://localhost:8080/"
        }
      },
      "execution_count": 45,
      "outputs": [
        {
          "output_type": "execute_result",
          "data": {
            "text/plain": [
              "array([[5.06253504, 3.50061866, 1.35746016, 0.26814042],\n",
              "       [6.13887242, 2.68950029, 4.70341374, 1.41527226],\n",
              "       [5.96455445, 2.50943852, 3.57598231, 1.19513608],\n",
              "       [5.92252523, 2.73245277, 3.88918445, 1.19423581],\n",
              "       [5.33377153, 3.02781987, 4.30363907, 1.76700911],\n",
              "       [6.9621314 , 3.06064244, 6.17445166, 2.1211694 ]])"
            ]
          },
          "metadata": {},
          "execution_count": 45
        }
      ]
    },
    {
      "cell_type": "code",
      "source": [
        "y_new2"
      ],
      "metadata": {
        "id": "fqgbLvrEJfNL",
        "outputId": "84962adb-a93b-4d50-e2b8-28f0c45a46e4",
        "colab": {
          "base_uri": "https://localhost:8080/"
        }
      },
      "execution_count": 46,
      "outputs": [
        {
          "output_type": "execute_result",
          "data": {
            "text/plain": [
              "array([0, 1, 1, 1, 2, 2])"
            ]
          },
          "metadata": {},
          "execution_count": 46
        }
      ]
    },
    {
      "cell_type": "code",
      "source": [
        "gm2.score_samples(penguins).round(2)"
      ],
      "metadata": {
        "id": "ECfirYWVJfKq",
        "outputId": "eb703f5b-0972-4e64-ef9e-97ab39171901",
        "colab": {
          "base_uri": "https://localhost:8080/"
        }
      },
      "execution_count": 48,
      "outputs": [
        {
          "output_type": "execute_result",
          "data": {
            "text/plain": [
              "array([ -6.43,  -5.63,  -5.98,  -6.  ,  -5.43,  -6.39,  -5.88,  -7.48,\n",
              "        -6.2 ,  -5.55,  -6.57,  -6.83,  -5.44,  -8.31,  -5.86,  -5.89,\n",
              "        -6.87,  -6.94,  -6.73,  -8.66,  -6.58,  -5.98,  -5.63,  -6.64,\n",
              "        -6.25,  -6.4 ,  -5.78,  -9.6 ,  -7.11,  -7.4 ,  -7.17,  -5.48,\n",
              "        -6.32,  -6.46,  -6.05,  -5.4 ,  -7.98,  -6.34,  -5.96,  -6.31,\n",
              "        -6.09,  -5.98,  -7.02,  -5.76,  -5.47,  -6.83,  -6.85,  -5.98,\n",
              "        -6.32,  -5.65,  -5.6 ,  -6.5 ,  -7.16,  -6.71,  -5.96,  -5.56,\n",
              "        -5.81,  -6.5 ,  -5.89,  -6.17,  -6.23,  -5.67,  -5.89,  -6.03,\n",
              "        -6.06,  -6.92,  -5.91,  -6.03,  -6.83,  -7.57,  -5.48,  -6.06,\n",
              "        -6.83,  -6.22,  -6.71,  -5.79,  -5.84,  -5.86,  -6.48,  -6.69,\n",
              "        -6.85,  -5.7 ,  -6.78,  -5.61,  -6.11,  -5.86,  -5.63,  -5.4 ,\n",
              "        -5.4 ,  -8.96,  -7.29,  -7.12,  -5.65,  -5.86,  -7.48,  -5.43,\n",
              "        -6.14,  -8.89,  -6.68,  -6.7 ,  -7.3 ,  -5.94,  -5.46,  -5.69,\n",
              "        -5.94,  -6.78,  -5.42,  -6.33,  -7.03,  -6.61,  -6.93,  -5.65,\n",
              "        -6.78,  -5.49,  -6.79,  -5.41,  -7.11,  -6.07,  -5.86,  -5.86,\n",
              "        -6.7 ,  -8.38,  -7.25,  -6.34,  -6.76,  -5.44,  -6.29,  -5.44,\n",
              "        -6.12,  -5.4 ,  -7.02,  -5.97,  -7.04,  -5.46,  -5.84,  -6.25,\n",
              "        -6.93,  -5.76,  -5.65,  -5.73,  -5.81,  -8.75,  -5.71,  -5.7 ,\n",
              "        -5.67,  -5.42,  -5.97,  -6.65,  -5.71,  -5.94,  -7.19,  -5.98,\n",
              "        -7.77,  -7.2 ,  -6.1 ,  -5.69,  -6.26,  -5.92,  -5.8 ,  -6.36,\n",
              "        -5.6 ,  -8.48,  -5.96,  -5.71,  -6.27,  -6.11,  -5.94,  -6.88,\n",
              "        -5.79,  -6.41,  -5.88,  -6.2 ,  -5.84,  -5.74,  -5.61,  -6.97,\n",
              "        -5.63,  -6.18,  -5.73,  -6.94,  -5.94,  -6.17,  -6.51,  -6.64,\n",
              "       -13.29,  -5.73,  -5.68,  -6.81,  -6.9 ,  -6.37,  -7.52,  -6.6 ,\n",
              "        -6.32,  -6.05,  -6.22,  -6.06,  -6.93,  -6.07,  -6.31,  -5.83,\n",
              "        -5.81,  -6.29,  -5.68,  -6.05,  -6.3 ,  -5.64,  -6.79,  -6.38,\n",
              "        -6.49,  -6.47,  -6.17,  -6.44,  -6.38,  -5.69,  -8.18,  -6.11,\n",
              "        -7.85,  -5.65,  -7.56,  -7.99,  -6.15,  -5.62,  -6.29,  -5.79,\n",
              "        -5.64,  -5.61,  -8.46,  -6.87,  -6.4 ,  -5.81,  -7.71,  -6.9 ,\n",
              "        -7.14,  -6.1 ,  -6.14,  -5.86,  -6.94,  -7.37,  -6.84,  -6.13,\n",
              "        -7.46,  -5.59,  -7.03,  -5.81,  -6.14,  -5.97,  -6.5 ,  -6.13,\n",
              "        -6.32,  -6.99,  -6.39,  -5.65,  -9.12,  -5.63,  -7.33,  -5.58,\n",
              "        -5.6 ,  -7.05,  -8.39,  -6.45,  -7.14,  -6.75,  -7.45,  -6.31,\n",
              "        -7.46,  -5.7 ,  -8.48,  -6.35,  -5.87,  -5.72,  -5.6 ,  -6.04,\n",
              "        -5.82,  -7.14,  -6.76,  -6.55,  -7.09,  -7.31,  -7.23,  -7.04,\n",
              "       -10.28,  -6.77,  -6.72,  -6.76,  -6.68,  -7.1 ,  -7.94,  -7.02,\n",
              "        -7.01,  -6.74,  -6.57, -16.09,  -6.97,  -6.5 ,  -7.79,  -6.81,\n",
              "        -6.97,  -6.89,  -6.6 ,  -6.97,  -6.67,  -6.59,  -6.86,  -7.66,\n",
              "        -5.92,  -7.84,  -6.64,  -7.01,  -6.55,  -6.63,  -6.5 ,  -8.5 ,\n",
              "        -6.72,  -7.88,  -7.36,  -7.47,  -6.71,  -6.84,  -6.71,  -6.78,\n",
              "        -7.23,  -6.84,  -8.4 ,  -6.51,  -6.56,  -6.88,  -6.8 ,  -6.98,\n",
              "        -6.64,  -7.04,  -6.96,  -6.93,  -6.81,  -6.79,  -7.62,  -7.09,\n",
              "        -6.78,  -9.2 ,  -7.39,  -6.69,  -8.17,  -6.55])"
            ]
          },
          "metadata": {},
          "execution_count": 48
        }
      ]
    },
    {
      "cell_type": "code",
      "source": [
        "plot_GMM(3, penguins, [\"flipper_length_mm\",\"bill_length_mm\"], \"species\")"
      ],
      "metadata": {
        "id": "PQQG2KZrPX8I",
        "outputId": "d7d732fe-cd6b-4846-9eb6-4bf101f9135c",
        "colab": {
          "base_uri": "https://localhost:8080/",
          "height": 537
        }
      },
      "execution_count": 57,
      "outputs": [
        {
          "output_type": "error",
          "ename": "KeyError",
          "evalue": "'species'",
          "traceback": [
            "\u001b[0;31m---------------------------------------------------------------------------\u001b[0m",
            "\u001b[0;31mKeyError\u001b[0m                                  Traceback (most recent call last)",
            "\u001b[0;32m/usr/local/lib/python3.10/dist-packages/pandas/core/indexes/base.py\u001b[0m in \u001b[0;36mget_loc\u001b[0;34m(self, key)\u001b[0m\n\u001b[1;32m   3804\u001b[0m         \u001b[0;32mtry\u001b[0m\u001b[0;34m:\u001b[0m\u001b[0;34m\u001b[0m\u001b[0;34m\u001b[0m\u001b[0m\n\u001b[0;32m-> 3805\u001b[0;31m             \u001b[0;32mreturn\u001b[0m \u001b[0mself\u001b[0m\u001b[0;34m.\u001b[0m\u001b[0m_engine\u001b[0m\u001b[0;34m.\u001b[0m\u001b[0mget_loc\u001b[0m\u001b[0;34m(\u001b[0m\u001b[0mcasted_key\u001b[0m\u001b[0;34m)\u001b[0m\u001b[0;34m\u001b[0m\u001b[0;34m\u001b[0m\u001b[0m\n\u001b[0m\u001b[1;32m   3806\u001b[0m         \u001b[0;32mexcept\u001b[0m \u001b[0mKeyError\u001b[0m \u001b[0;32mas\u001b[0m \u001b[0merr\u001b[0m\u001b[0;34m:\u001b[0m\u001b[0;34m\u001b[0m\u001b[0;34m\u001b[0m\u001b[0m\n",
            "\u001b[0;32mindex.pyx\u001b[0m in \u001b[0;36mpandas._libs.index.IndexEngine.get_loc\u001b[0;34m()\u001b[0m\n",
            "\u001b[0;32mindex.pyx\u001b[0m in \u001b[0;36mpandas._libs.index.IndexEngine.get_loc\u001b[0;34m()\u001b[0m\n",
            "\u001b[0;32mpandas/_libs/hashtable_class_helper.pxi\u001b[0m in \u001b[0;36mpandas._libs.hashtable.PyObjectHashTable.get_item\u001b[0;34m()\u001b[0m\n",
            "\u001b[0;32mpandas/_libs/hashtable_class_helper.pxi\u001b[0m in \u001b[0;36mpandas._libs.hashtable.PyObjectHashTable.get_item\u001b[0;34m()\u001b[0m\n",
            "\u001b[0;31mKeyError\u001b[0m: 'species'",
            "\nThe above exception was the direct cause of the following exception:\n",
            "\u001b[0;31mKeyError\u001b[0m                                  Traceback (most recent call last)",
            "\u001b[0;32m<ipython-input-57-0a8c7808d078>\u001b[0m in \u001b[0;36m<cell line: 1>\u001b[0;34m()\u001b[0m\n\u001b[0;32m----> 1\u001b[0;31m \u001b[0mplot_GMM\u001b[0m\u001b[0;34m(\u001b[0m\u001b[0;36m3\u001b[0m\u001b[0;34m,\u001b[0m \u001b[0mpenguins\u001b[0m\u001b[0;34m,\u001b[0m \u001b[0;34m[\u001b[0m\u001b[0;34m\"flipper_length_mm\"\u001b[0m\u001b[0;34m,\u001b[0m\u001b[0;34m\"bill_length_mm\"\u001b[0m\u001b[0;34m]\u001b[0m\u001b[0;34m,\u001b[0m \u001b[0;34m\"species\"\u001b[0m\u001b[0;34m)\u001b[0m\u001b[0;34m\u001b[0m\u001b[0;34m\u001b[0m\u001b[0m\n\u001b[0m",
            "\u001b[0;32m<ipython-input-56-e8ce37d7e5b9>\u001b[0m in \u001b[0;36mplot_GMM\u001b[0;34m(k, dataset, features, target)\u001b[0m\n\u001b[1;32m      1\u001b[0m \u001b[0;32mdef\u001b[0m \u001b[0mplot_GMM\u001b[0m\u001b[0;34m(\u001b[0m\u001b[0mk\u001b[0m\u001b[0;34m,\u001b[0m \u001b[0mdataset\u001b[0m\u001b[0;34m,\u001b[0m \u001b[0mfeatures\u001b[0m\u001b[0;34m,\u001b[0m \u001b[0mtarget\u001b[0m\u001b[0;34m)\u001b[0m\u001b[0;34m:\u001b[0m\u001b[0;34m\u001b[0m\u001b[0;34m\u001b[0m\u001b[0m\n\u001b[1;32m      2\u001b[0m     \u001b[0mfeatures_data\u001b[0m \u001b[0;34m=\u001b[0m \u001b[0mdataset\u001b[0m\u001b[0;34m[\u001b[0m\u001b[0mfeatures\u001b[0m\u001b[0;34m]\u001b[0m\u001b[0;34m.\u001b[0m\u001b[0mdropna\u001b[0m\u001b[0;34m(\u001b[0m\u001b[0;34m)\u001b[0m\u001b[0;34m\u001b[0m\u001b[0;34m\u001b[0m\u001b[0m\n\u001b[0;32m----> 3\u001b[0;31m     \u001b[0mtarget_data\u001b[0m \u001b[0;34m=\u001b[0m \u001b[0mdataset\u001b[0m\u001b[0;34m[\u001b[0m\u001b[0mtarget\u001b[0m\u001b[0;34m]\u001b[0m\u001b[0;34m.\u001b[0m\u001b[0miloc\u001b[0m\u001b[0;34m[\u001b[0m\u001b[0mfeatures_data\u001b[0m\u001b[0;34m.\u001b[0m\u001b[0mindex\u001b[0m\u001b[0;34m]\u001b[0m\u001b[0;34m\u001b[0m\u001b[0;34m\u001b[0m\u001b[0m\n\u001b[0m\u001b[1;32m      4\u001b[0m \u001b[0;34m\u001b[0m\u001b[0m\n\u001b[1;32m      5\u001b[0m     \u001b[0;31m# Fit GMM\u001b[0m\u001b[0;34m\u001b[0m\u001b[0;34m\u001b[0m\u001b[0m\n",
            "\u001b[0;32m/usr/local/lib/python3.10/dist-packages/pandas/core/frame.py\u001b[0m in \u001b[0;36m__getitem__\u001b[0;34m(self, key)\u001b[0m\n\u001b[1;32m   4100\u001b[0m             \u001b[0;32mif\u001b[0m \u001b[0mself\u001b[0m\u001b[0;34m.\u001b[0m\u001b[0mcolumns\u001b[0m\u001b[0;34m.\u001b[0m\u001b[0mnlevels\u001b[0m \u001b[0;34m>\u001b[0m \u001b[0;36m1\u001b[0m\u001b[0;34m:\u001b[0m\u001b[0;34m\u001b[0m\u001b[0;34m\u001b[0m\u001b[0m\n\u001b[1;32m   4101\u001b[0m                 \u001b[0;32mreturn\u001b[0m \u001b[0mself\u001b[0m\u001b[0;34m.\u001b[0m\u001b[0m_getitem_multilevel\u001b[0m\u001b[0;34m(\u001b[0m\u001b[0mkey\u001b[0m\u001b[0;34m)\u001b[0m\u001b[0;34m\u001b[0m\u001b[0;34m\u001b[0m\u001b[0m\n\u001b[0;32m-> 4102\u001b[0;31m             \u001b[0mindexer\u001b[0m \u001b[0;34m=\u001b[0m \u001b[0mself\u001b[0m\u001b[0;34m.\u001b[0m\u001b[0mcolumns\u001b[0m\u001b[0;34m.\u001b[0m\u001b[0mget_loc\u001b[0m\u001b[0;34m(\u001b[0m\u001b[0mkey\u001b[0m\u001b[0;34m)\u001b[0m\u001b[0;34m\u001b[0m\u001b[0;34m\u001b[0m\u001b[0m\n\u001b[0m\u001b[1;32m   4103\u001b[0m             \u001b[0;32mif\u001b[0m \u001b[0mis_integer\u001b[0m\u001b[0;34m(\u001b[0m\u001b[0mindexer\u001b[0m\u001b[0;34m)\u001b[0m\u001b[0;34m:\u001b[0m\u001b[0;34m\u001b[0m\u001b[0;34m\u001b[0m\u001b[0m\n\u001b[1;32m   4104\u001b[0m                 \u001b[0mindexer\u001b[0m \u001b[0;34m=\u001b[0m \u001b[0;34m[\u001b[0m\u001b[0mindexer\u001b[0m\u001b[0;34m]\u001b[0m\u001b[0;34m\u001b[0m\u001b[0;34m\u001b[0m\u001b[0m\n",
            "\u001b[0;32m/usr/local/lib/python3.10/dist-packages/pandas/core/indexes/base.py\u001b[0m in \u001b[0;36mget_loc\u001b[0;34m(self, key)\u001b[0m\n\u001b[1;32m   3810\u001b[0m             ):\n\u001b[1;32m   3811\u001b[0m                 \u001b[0;32mraise\u001b[0m \u001b[0mInvalidIndexError\u001b[0m\u001b[0;34m(\u001b[0m\u001b[0mkey\u001b[0m\u001b[0;34m)\u001b[0m\u001b[0;34m\u001b[0m\u001b[0;34m\u001b[0m\u001b[0m\n\u001b[0;32m-> 3812\u001b[0;31m             \u001b[0;32mraise\u001b[0m \u001b[0mKeyError\u001b[0m\u001b[0;34m(\u001b[0m\u001b[0mkey\u001b[0m\u001b[0;34m)\u001b[0m \u001b[0;32mfrom\u001b[0m \u001b[0merr\u001b[0m\u001b[0;34m\u001b[0m\u001b[0;34m\u001b[0m\u001b[0m\n\u001b[0m\u001b[1;32m   3813\u001b[0m         \u001b[0;32mexcept\u001b[0m \u001b[0mTypeError\u001b[0m\u001b[0;34m:\u001b[0m\u001b[0;34m\u001b[0m\u001b[0;34m\u001b[0m\u001b[0m\n\u001b[1;32m   3814\u001b[0m             \u001b[0;31m# If we have a listlike key, _check_indexing_error will raise\u001b[0m\u001b[0;34m\u001b[0m\u001b[0;34m\u001b[0m\u001b[0m\n",
            "\u001b[0;31mKeyError\u001b[0m: 'species'"
          ]
        }
      ]
    }
  ]
}